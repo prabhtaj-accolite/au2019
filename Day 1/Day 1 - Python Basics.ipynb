{
 "cells": [
  {
   "cell_type": "code",
   "execution_count": 1,
   "metadata": {},
   "outputs": [
    {
     "name": "stdout",
     "output_type": "stream",
     "text": [
      "Palindromes:  ['Noon', 'Malayalam', 'Madam', 'Civic']\n",
      "Palindromes with string sums:  {'Noon': 58, 'Malayalam': 79, 'Madam': 32, 'Civic': 46}\n",
      "---------------------------\n",
      "Noon: \n",
      "Even/Odd: Even\n",
      "Is Armstrong Number? False\n",
      "---------------------------\n",
      "Malayalam: \n",
      "Even/Odd: Odd\n",
      "Is Armstrong Number? False\n",
      "---------------------------\n",
      "Madam: \n",
      "Even/Odd: Even\n",
      "Is Armstrong Number? False\n",
      "---------------------------\n",
      "Civic: \n",
      "Even/Odd: Even\n",
      "Is Armstrong Number? False\n",
      "---------------------------\n"
     ]
    }
   ],
   "source": [
    "from functools import reduce\n",
    "\n",
    "wordlist = ['Accolite', 'Noon', 'Bumper', 'Corporate', 'Malayalam', 'Madam', 'Civic']\n",
    "\n",
    "d = {k: v for k, v in zip(list(\"abcdefghijklmnopqrstuvwxyz\"), range(1,27))}\n",
    "\n",
    "def isPalindrome(s):\n",
    "    result = True\n",
    "    for i in range (0, len(s)//2):\n",
    "        if not (s[i].lower() == s[len(s) - i - 1].lower()):\n",
    "            result = False\n",
    "    return result\n",
    "\n",
    "getPalindromes = lambda strlist : list(filter(lambda x: all(list(map(lambda i, k: k[i].lower() == k[len(k) - i - 1].lower(), range(0,len(x)),[x]*len(x)))), strlist))\n",
    "\n",
    "getStringSums = lambda strlist : list(map(lambda x: sum(map(lambda y: d[y] ,list(x.lower()))), strlist))\n",
    "\n",
    "evenodd = lambda x : \"Even\" if x % 2 == 0 else \"Odd\"\n",
    "\n",
    "armstrong = lambda x : x == sum(list(map(lambda y : int(y)**len(str(x)), str(x))))\n",
    "\n",
    "print(\"Palindromes: \", getPalindromes(wordlist))\n",
    "\n",
    "palinDict = dict(zip(getPalindromes(wordlist), getStringSums(getPalindromes(wordlist))))\n",
    "\n",
    "print(\"Palindromes with string sums: \", palinDict)\n",
    "\n",
    "print('---------------------------')\n",
    "\n",
    "for key in palinDict:\n",
    "    print(key + \": \")\n",
    "    print(\"Even/Odd: \" + evenodd(palinDict[key]))\n",
    "    print(\"Is Armstrong Number? \" + str(armstrong(palinDict[key])))\n",
    "    print(\"---------------------------\")\n",
    "\n"
   ]
  },
  {
   "cell_type": "code",
   "execution_count": null,
   "metadata": {},
   "outputs": [],
   "source": []
  }
 ],
 "metadata": {
  "kernelspec": {
   "display_name": "Python 3",
   "language": "python",
   "name": "python3"
  },
  "language_info": {
   "codemirror_mode": {
    "name": "ipython",
    "version": 3
   },
   "file_extension": ".py",
   "mimetype": "text/x-python",
   "name": "python",
   "nbconvert_exporter": "python",
   "pygments_lexer": "ipython3",
   "version": "3.7.3"
  }
 },
 "nbformat": 4,
 "nbformat_minor": 2
}
