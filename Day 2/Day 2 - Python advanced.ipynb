{
 "cells": [
  {
   "cell_type": "markdown",
   "metadata": {},
   "source": [
    "## File Handling (excel file)"
   ]
  },
  {
   "cell_type": "code",
   "execution_count": 1,
   "metadata": {},
   "outputs": [
    {
     "data": {
      "text/html": [
       "<div>\n",
       "<style scoped>\n",
       "    .dataframe tbody tr th:only-of-type {\n",
       "        vertical-align: middle;\n",
       "    }\n",
       "\n",
       "    .dataframe tbody tr th {\n",
       "        vertical-align: top;\n",
       "    }\n",
       "\n",
       "    .dataframe thead th {\n",
       "        text-align: right;\n",
       "    }\n",
       "</style>\n",
       "<table border=\"1\" class=\"dataframe\">\n",
       "  <thead>\n",
       "    <tr style=\"text-align: right;\">\n",
       "      <th></th>\n",
       "      <th>EmpID</th>\n",
       "      <th>EmpName</th>\n",
       "      <th>Department</th>\n",
       "      <th>DOB</th>\n",
       "    </tr>\n",
       "  </thead>\n",
       "  <tbody>\n",
       "    <tr>\n",
       "      <th>1</th>\n",
       "      <td>2</td>\n",
       "      <td>fda</td>\n",
       "      <td>tgre</td>\n",
       "      <td>12-12-1979</td>\n",
       "    </tr>\n",
       "    <tr>\n",
       "      <th>3</th>\n",
       "      <td>21</td>\n",
       "      <td>fda</td>\n",
       "      <td>tgre</td>\n",
       "      <td>12-12-1981</td>\n",
       "    </tr>\n",
       "    <tr>\n",
       "      <th>2</th>\n",
       "      <td>24</td>\n",
       "      <td>fda</td>\n",
       "      <td>tgre</td>\n",
       "      <td>12-12-1980</td>\n",
       "    </tr>\n",
       "    <tr>\n",
       "      <th>0</th>\n",
       "      <td>43</td>\n",
       "      <td>fda</td>\n",
       "      <td>tgre</td>\n",
       "      <td>12-12-1978</td>\n",
       "    </tr>\n",
       "    <tr>\n",
       "      <th>4</th>\n",
       "      <td>48</td>\n",
       "      <td>fda</td>\n",
       "      <td>tgre</td>\n",
       "      <td>12-12-1982</td>\n",
       "    </tr>\n",
       "  </tbody>\n",
       "</table>\n",
       "</div>"
      ],
      "text/plain": [
       "   EmpID EmpName Department         DOB\n",
       "1      2     fda       tgre  12-12-1979\n",
       "3     21     fda       tgre  12-12-1981\n",
       "2     24     fda       tgre  12-12-1980\n",
       "0     43     fda       tgre  12-12-1978\n",
       "4     48     fda       tgre  12-12-1982"
      ]
     },
     "metadata": {},
     "output_type": "display_data"
    }
   ],
   "source": [
    "import pandas as pd\n",
    "try:\n",
    "    exc = pd.read_excel(r'C:\\Users\\prabhtaj.singh\\Desktop\\au2019\\empsample.xlsx')\n",
    "except e:\n",
    "    raise e\n",
    "finally:\n",
    "    display(exc.sort_values(by='EmpID'))"
   ]
  },
  {
   "cell_type": "markdown",
   "metadata": {},
   "source": [
    "## File Handling (zip file)"
   ]
  },
  {
   "cell_type": "code",
   "execution_count": 77,
   "metadata": {},
   "outputs": [
    {
     "name": "stdout",
     "output_type": "stream",
     "text": [
      "Extracting all the files now...\n",
      "File: README - Copy.md\n",
      "# au2019\n",
      "\n",
      "fdghaiufqohiwdnaeiubdwheygcihcs\n",
      "ewdcf\n",
      "eqfaew\n",
      "f\n",
      "aewf\n",
      "wae\n",
      "fa\n",
      "wef\n",
      "wae\n",
      "f\n",
      "fawefwae\n",
      "f\n",
      "wef\n",
      "awe\n",
      "f\n",
      "awefwawefawegaregfqerfW\n",
      "\n",
      "\n",
      "\n",
      "\n",
      "File: README.md\n",
      "# au2019\n",
      "\n",
      "\n",
      "\n"
     ]
    }
   ],
   "source": [
    "from zipfile import ZipFile \n",
    "\n",
    "file_name = \"README.zip\"\n",
    "\n",
    "with ZipFile(file_name, 'r') as zzip:\n",
    "    fnames = zzip.namelist()\n",
    "    print('Extracting all the files now...') \n",
    "    zzip.extractall() \n",
    "    for fname in fnames:\n",
    "        with open(fname, 'r') as f:\n",
    "            print(\"File:\",fname)\n",
    "            print(f.read())\n",
    "            print(\"\\n\\n\")"
   ]
  },
  {
   "cell_type": "markdown",
   "metadata": {},
   "source": [
    "## Random Number generator"
   ]
  },
  {
   "cell_type": "code",
   "execution_count": 69,
   "metadata": {},
   "outputs": [
    {
     "name": "stdout",
     "output_type": "stream",
     "text": [
      "6345736583670307\n"
     ]
    }
   ],
   "source": [
    "#create a 16 digit random number\n",
    "\n",
    "from datetime import datetime\n",
    "from time import sleep\n",
    "import random\n",
    "\n",
    "def filterfunc(variable): \n",
    "    letters = \"1234567890\"\n",
    "    if (variable in digits): \n",
    "        return True\n",
    "    else: \n",
    "        return False\n",
    "\n",
    "fragment1 = str(datetime.now())[-4:]\n",
    "sleep(random.random()/1000)\n",
    "fragment2 = str(datetime.now())[-4:]\n",
    "sleep(random.random()/1000)\n",
    "fragment3 = str(datetime.now())[-4:]\n",
    "sleep(random.random()/1000)\n",
    "fragment4 = str(datetime.now())[-4:]\n",
    "print(str(fragment1) + str(fragment2) + str(fragment3) + str(fragment4))"
   ]
  },
  {
   "cell_type": "markdown",
   "metadata": {},
   "source": [
    "## Student Class from array data"
   ]
  },
  {
   "cell_type": "code",
   "execution_count": 18,
   "metadata": {},
   "outputs": [
    {
     "name": "stdout",
     "output_type": "stream",
     "text": [
      "Name = ducaxjg; Rollno = 76\n",
      "Name = tkkygor; Rollno = 91\n",
      "Name = jgyztqg; Rollno = 78\n",
      "Name = apsdvyx; Rollno = 44\n",
      "Name = yabnwly; Rollno = 37\n",
      "Name = lboixvh; Rollno = 31\n",
      "Name = jnxpcxw; Rollno = 57\n",
      "Name = slpoxzg; Rollno = 84\n",
      "Name = ejkovru; Rollno = 23\n",
      "Name = mqyidqx; Rollno = 91\n"
     ]
    }
   ],
   "source": [
    "#change [rollno array] and [name array] to a class and into [student array class]\n",
    "\n",
    "import random\n",
    "\n",
    "rollno = [int (random.random() * 100) for no in range(10)]\n",
    "names = [''.join(random.choices(\"qwertyuiopasdfghjklzxcvbnm\", k=7)) for name in range(10)]\n",
    "\n",
    "class Student:\n",
    "    def __init__(self, name, rollno):\n",
    "        self.name = name\n",
    "        self.rollno = rollno\n",
    "        \n",
    "    def display(self):\n",
    "        print(\"Name = \" + str(self.name) + \"; Rollno = \" + str(self.rollno))\n",
    "\n",
    "students = [Student(n,r) for n, r in zip(names, rollno)]\n",
    "\n",
    "\n",
    "class StudentMarks(Student):\n",
    "    def __init__(self, marks):\n",
    "        self.marks = marks\n",
    "    \n",
    "    def display(self):\n",
    "        print(\"Name = \" + str(self.name) + \"; Rollno = \" + str(self.rollno) + \"; Marks = \" + str(self.marks))\n",
    "\n",
    "for student in students:\n",
    "    student.display()\n"
   ]
  }
 ],
 "metadata": {
  "kernelspec": {
   "display_name": "Python 3",
   "language": "python",
   "name": "python3"
  },
  "language_info": {
   "codemirror_mode": {
    "name": "ipython",
    "version": 3
   },
   "file_extension": ".py",
   "mimetype": "text/x-python",
   "name": "python",
   "nbconvert_exporter": "python",
   "pygments_lexer": "ipython3",
   "version": "3.7.3"
  }
 },
 "nbformat": 4,
 "nbformat_minor": 2
}
