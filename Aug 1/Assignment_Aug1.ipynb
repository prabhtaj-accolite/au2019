{
 "cells": [
  {
   "cell_type": "markdown",
   "metadata": {},
   "source": [
    "# August 1 Assignment (Trainer- Dhruv Sharma)"
   ]
  },
  {
   "cell_type": "code",
   "execution_count": 1,
   "metadata": {
    "ExecuteTime": {
     "end_time": "2019-08-05T04:13:23.783275Z",
     "start_time": "2019-08-05T04:13:22.838774Z"
    }
   },
   "outputs": [],
   "source": [
    "from sklearn.datasets import load_breast_cancer\n",
    "from sklearn.linear_model import LogisticRegression\n",
    "from sklearn.model_selection import train_test_split\n",
    "from sklearn.metrics import accuracy_score, confusion_matrix\n",
    "from sklearn.svm import SVC\n",
    "from sklearn.tree import DecisionTreeClassifier\n",
    "from sklearn.neural_network import MLPClassifier"
   ]
  },
  {
   "cell_type": "code",
   "execution_count": 2,
   "metadata": {
    "ExecuteTime": {
     "end_time": "2019-08-05T04:13:23.798229Z",
     "start_time": "2019-08-05T04:13:23.784236Z"
    }
   },
   "outputs": [],
   "source": [
    "dataset = load_breast_cancer()\n",
    "X = dataset.data\n",
    "Y = dataset.target\n",
    "\n",
    "X_train, X_test, Y_train, Y_test = train_test_split(X, Y, test_size=0.2, random_state=33)"
   ]
  },
  {
   "cell_type": "markdown",
   "metadata": {
    "ExecuteTime": {
     "end_time": "2019-08-01T12:48:42.618496Z",
     "start_time": "2019-08-01T12:48:42.599501Z"
    }
   },
   "source": [
    "## Logistic Regression"
   ]
  },
  {
   "cell_type": "code",
   "execution_count": 3,
   "metadata": {
    "ExecuteTime": {
     "end_time": "2019-08-05T04:13:24.053501Z",
     "start_time": "2019-08-05T04:13:23.799160Z"
    }
   },
   "outputs": [
    {
     "name": "stdout",
     "output_type": "stream",
     "text": [
      "Accuracy: 0.9736842105263158\n",
      "Precision: 0.9594594594594594\n",
      "Recall: 1.0\n",
      "F-measure: 0.9793103448275862\n"
     ]
    }
   ],
   "source": [
    "regression_model = LogisticRegression(penalty='l2', solver='newton-cg', fit_intercept=True, C=10)\n",
    "regression_model.fit(X_train, Y_train)\n",
    "Y_pred = regression_model.predict(X_test)\n",
    "\n",
    "tn, fp, fn, tp = confusion_matrix(Y_test, Y_pred).ravel()\n",
    "recall = tp / (tp + fn)\n",
    "precision = tp / (tp + fp)\n",
    "accuracy = accuracy_score(Y_test, Y_pred)\n",
    "f_measure = 2 * recall * precision / (precision + recall)\n",
    "print('Accuracy: {}\\nPrecision: {}\\nRecall: {}\\nF-measure: {}'.format(accuracy, precision, recall, f_measure))"
   ]
  },
  {
   "cell_type": "markdown",
   "metadata": {
    "ExecuteTime": {
     "end_time": "2019-08-01T13:04:13.064539Z",
     "start_time": "2019-08-01T13:04:12.960816Z"
    }
   },
   "source": [
    "## SVM"
   ]
  },
  {
   "cell_type": "code",
   "execution_count": 4,
   "metadata": {
    "ExecuteTime": {
     "end_time": "2019-08-05T04:13:24.860343Z",
     "start_time": "2019-08-05T04:13:24.055496Z"
    }
   },
   "outputs": [
    {
     "name": "stdout",
     "output_type": "stream",
     "text": [
      "Accuracy: 0.956140350877193\n",
      "Precision: 0.9459459459459459\n",
      "Recall: 0.9859154929577465\n",
      "F-measure: 0.9655172413793103\n"
     ]
    }
   ],
   "source": [
    "svm_model = SVC(kernel='linear', random_state=42)\n",
    "svm_model.fit(X_train, Y_train)\n",
    "Y_pred = svm_model.predict(X_test)\n",
    "\n",
    "tn, fp, fn, tp = confusion_matrix(Y_test, Y_pred).ravel()\n",
    "recall = tp / (tp + fn)\n",
    "precision = tp / (tp + fp)\n",
    "accuracy = accuracy_score(Y_test, Y_pred)\n",
    "f_measure = 2 * recall * precision / (precision + recall)\n",
    "print('Accuracy: {}\\nPrecision: {}\\nRecall: {}\\nF-measure: {}'.format(accuracy, precision, recall, f_measure))"
   ]
  },
  {
   "cell_type": "markdown",
   "metadata": {},
   "source": [
    "## Decision Tree"
   ]
  },
  {
   "cell_type": "code",
   "execution_count": 5,
   "metadata": {
    "ExecuteTime": {
     "end_time": "2019-08-05T04:13:24.904626Z",
     "start_time": "2019-08-05T04:13:24.861340Z"
    }
   },
   "outputs": [
    {
     "name": "stdout",
     "output_type": "stream",
     "text": [
      "Accuracy: 0.8947368421052632\n",
      "Precision: 0.9154929577464789\n",
      "Recall: 0.9154929577464789\n",
      "F-measure: 0.9154929577464789\n"
     ]
    }
   ],
   "source": [
    "decision_tree_model = DecisionTreeClassifier()\n",
    "decision_tree_model.fit(X_train, Y_train)\n",
    "Y_pred = decision_tree_model.predict(X_test)\n",
    "\n",
    "tn, fp, fn, tp = confusion_matrix(Y_test, Y_pred).ravel()\n",
    "recall = tp / (tp + fn)\n",
    "precision = tp / (tp + fp)\n",
    "accuracy = accuracy_score(Y_test, Y_pred)\n",
    "f_measure = 2 * recall * precision / (precision + recall)\n",
    "print('Accuracy: {}\\nPrecision: {}\\nRecall: {}\\nF-measure: {}'.format(accuracy, precision, recall, f_measure))"
   ]
  },
  {
   "cell_type": "markdown",
   "metadata": {},
   "source": [
    "## Neural Network"
   ]
  },
  {
   "cell_type": "code",
   "execution_count": 6,
   "metadata": {
    "ExecuteTime": {
     "end_time": "2019-08-05T04:13:25.493251Z",
     "start_time": "2019-08-05T04:13:24.905635Z"
    }
   },
   "outputs": [
    {
     "name": "stdout",
     "output_type": "stream",
     "text": [
      "Accuracy: 0.9298245614035088\n",
      "Precision: 0.9315068493150684\n",
      "Recall: 0.9577464788732394\n",
      "F-measure: 0.9444444444444444\n"
     ]
    }
   ],
   "source": [
    "nn_model = MLPClassifier(solver='lbfgs', alpha=1e-5, hidden_layer_sizes=(30, 15), random_state=42, learning_rate='adaptive')\n",
    "nn_model.fit(X_train, Y_train)\n",
    "Y_pred = nn_model.predict(X_test)\n",
    "\n",
    "tn, fp, fn, tp = confusion_matrix(Y_test, Y_pred).ravel()\n",
    "recall = tp / (tp + fn)\n",
    "precision = tp / (tp + fp)\n",
    "accuracy = accuracy_score(Y_test, Y_pred)\n",
    "f_measure = 2 * recall * precision / (precision + recall)\n",
    "print('Accuracy: {}\\nPrecision: {}\\nRecall: {}\\nF-measure: {}'.format(accuracy, precision, recall, f_measure))"
   ]
  },
  {
   "cell_type": "code",
   "execution_count": null,
   "metadata": {},
   "outputs": [],
   "source": []
  }
 ],
 "metadata": {
  "kernelspec": {
   "display_name": "Python 3",
   "language": "python",
   "name": "python3"
  },
  "language_info": {
   "codemirror_mode": {
    "name": "ipython",
    "version": 3
   },
   "file_extension": ".py",
   "mimetype": "text/x-python",
   "name": "python",
   "nbconvert_exporter": "python",
   "pygments_lexer": "ipython3",
   "version": "3.7.3"
  }
 },
 "nbformat": 4,
 "nbformat_minor": 2
}
